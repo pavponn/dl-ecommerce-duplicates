{
 "cells": [
  {
   "cell_type": "code",
   "execution_count": 1,
   "metadata": {
    "collapsed": true,
    "pycharm": {
     "name": "#%%\n"
    }
   },
   "outputs": [],
   "source": [
    "import numpy as np\n",
    "import pandas as pd\n",
    "\n",
    "import torch\n",
    "import torch.optim as optim\n",
    "import torchvision.transforms as transforms\n",
    "from torch.utils.data.dataset import Dataset\n",
    "from tqdm import tqdm\n",
    "from modules.datasets.ImageContrastiveLossShopeeDataset import ImageContrastiveLossShopeeDataset\n",
    "from modules.losses.ContrastiveLoss import ContrastiveLoss\n",
    "from modules.models.SiameseNet import SiameseNet\n",
    "from modules.models.ResNet18EmbeddingsShopeeNet import ResNet18EmbeddingsShopeeNet\n",
    "import modules.utils.dataset_utils as dataset_utils\n",
    "\n",
    "import os"
   ]
  },
  {
   "cell_type": "code",
   "execution_count": 2,
   "outputs": [
    {
     "data": {
      "text/plain": "         posting_id                                              image  \\\n0   train_129225211  ./shopee-product-matching/train_images/0000a68...   \n1  train_3386243561  ./shopee-product-matching/train_images/0003978...   \n2  train_2288590299  ./shopee-product-matching/train_images/000a190...   \n3  train_2406599165  ./shopee-product-matching/train_images/00117e4...   \n4  train_3369186413  ./shopee-product-matching/train_images/00136d1...   \n\n        image_phash                                              title  \\\n0  94974f937d4c2433                          Paper Bag Victoria Secret   \n1  af3f9460c2838f0f  Double Tape 3M VHB 12 mm x 4,5 m ORIGINAL / DO...   \n2  b94cb00ed3e50f78        Maling TTS Canned Pork Luncheon Meat 397 gr   \n3  8514fc58eafea283  Daster Batik Lengan pendek - Motif Acak / Camp...   \n4  a6f319f924ad708c                  Nescafe \\xc3\\x89clair Latte 220ml   \n\n   label_group                                target  \n0    249114794   [train_129225211, train_2278313361]  \n1   2937985045  [train_3386243561, train_3423213080]  \n2   2395904891  [train_2288590299, train_3803689425]  \n3   4093212188  [train_2406599165, train_3342059966]  \n4   3648931069   [train_3369186413, train_921438619]  ",
      "text/html": "<div>\n<style scoped>\n    .dataframe tbody tr th:only-of-type {\n        vertical-align: middle;\n    }\n\n    .dataframe tbody tr th {\n        vertical-align: top;\n    }\n\n    .dataframe thead th {\n        text-align: right;\n    }\n</style>\n<table border=\"1\" class=\"dataframe\">\n  <thead>\n    <tr style=\"text-align: right;\">\n      <th></th>\n      <th>posting_id</th>\n      <th>image</th>\n      <th>image_phash</th>\n      <th>title</th>\n      <th>label_group</th>\n      <th>target</th>\n    </tr>\n  </thead>\n  <tbody>\n    <tr>\n      <th>0</th>\n      <td>train_129225211</td>\n      <td>./shopee-product-matching/train_images/0000a68...</td>\n      <td>94974f937d4c2433</td>\n      <td>Paper Bag Victoria Secret</td>\n      <td>249114794</td>\n      <td>[train_129225211, train_2278313361]</td>\n    </tr>\n    <tr>\n      <th>1</th>\n      <td>train_3386243561</td>\n      <td>./shopee-product-matching/train_images/0003978...</td>\n      <td>af3f9460c2838f0f</td>\n      <td>Double Tape 3M VHB 12 mm x 4,5 m ORIGINAL / DO...</td>\n      <td>2937985045</td>\n      <td>[train_3386243561, train_3423213080]</td>\n    </tr>\n    <tr>\n      <th>2</th>\n      <td>train_2288590299</td>\n      <td>./shopee-product-matching/train_images/000a190...</td>\n      <td>b94cb00ed3e50f78</td>\n      <td>Maling TTS Canned Pork Luncheon Meat 397 gr</td>\n      <td>2395904891</td>\n      <td>[train_2288590299, train_3803689425]</td>\n    </tr>\n    <tr>\n      <th>3</th>\n      <td>train_2406599165</td>\n      <td>./shopee-product-matching/train_images/00117e4...</td>\n      <td>8514fc58eafea283</td>\n      <td>Daster Batik Lengan pendek - Motif Acak / Camp...</td>\n      <td>4093212188</td>\n      <td>[train_2406599165, train_3342059966]</td>\n    </tr>\n    <tr>\n      <th>4</th>\n      <td>train_3369186413</td>\n      <td>./shopee-product-matching/train_images/00136d1...</td>\n      <td>a6f319f924ad708c</td>\n      <td>Nescafe \\xc3\\x89clair Latte 220ml</td>\n      <td>3648931069</td>\n      <td>[train_3369186413, train_921438619]</td>\n    </tr>\n  </tbody>\n</table>\n</div>"
     },
     "execution_count": 2,
     "metadata": {},
     "output_type": "execute_result"
    }
   ],
   "source": [
    "DATA_FOLDER = './shopee-product-matching/'\n",
    "\n",
    "train_df = dataset_utils.get_dataset(DATA_FOLDER, is_test=False)\n",
    "train_df = dataset_utils.add_target(train_df)\n",
    "train_df.head()"
   ],
   "metadata": {
    "collapsed": false,
    "pycharm": {
     "name": "#%%\n"
    }
   }
  },
  {
   "cell_type": "code",
   "execution_count": 3,
   "outputs": [
    {
     "name": "stderr",
     "output_type": "stream",
     "text": [
      "11014it [00:02, 3843.28it/s]\n"
     ]
    },
    {
     "data": {
      "text/plain": "            posting_id_1      posting_id_2  \\\n0        train_129225211  train_2278313361   \n1       train_2278313361     train_7437096   \n2       train_3386243561  train_3423213080   \n3       train_3386243561  train_1836586325   \n4       train_2288590299  train_3803689425   \n...                  ...               ...   \n167497   train_866113781  train_3058662787   \n167498  train_2244662893  train_3281898016   \n167499  train_2244662893  train_1962509900   \n167500  train_4221982820  train_4063409014   \n167501  train_4221982820  train_1968685616   \n\n                                                  image_1  \\\n0       ./shopee-product-matching/train_images/0000a68...   \n1       ./shopee-product-matching/train_images/f83b49a...   \n2       ./shopee-product-matching/train_images/0003978...   \n3       ./shopee-product-matching/train_images/0003978...   \n4       ./shopee-product-matching/train_images/000a190...   \n...                                                   ...   \n167497  ./shopee-product-matching/train_images/fd58c6f...   \n167498  ./shopee-product-matching/train_images/fd68da1...   \n167499  ./shopee-product-matching/train_images/fd68da1...   \n167500  ./shopee-product-matching/train_images/ff512b2...   \n167501  ./shopee-product-matching/train_images/ff512b2...   \n\n                                                  image_2  \\\n0       ./shopee-product-matching/train_images/f83b49a...   \n1       ./shopee-product-matching/train_images/c897e0d...   \n2       ./shopee-product-matching/train_images/8cbe4bf...   \n3       ./shopee-product-matching/train_images/9af7695...   \n4       ./shopee-product-matching/train_images/75dbd1e...   \n...                                                   ...   \n167497  ./shopee-product-matching/train_images/d1e8a0e...   \n167498  ./shopee-product-matching/train_images/fe2f96d...   \n167499  ./shopee-product-matching/train_images/1760302...   \n167500  ./shopee-product-matching/train_images/ff7180b...   \n167501  ./shopee-product-matching/train_images/12d6809...   \n\n                                                  title_1  \\\n0                               Paper Bag Victoria Secret   \n1                               PAPER BAG VICTORIA SECRET   \n2       Double Tape 3M VHB 12 mm x 4,5 m ORIGINAL / DO...   \n3       Double Tape 3M VHB 12 mm x 4,5 m ORIGINAL / DO...   \n4             Maling TTS Canned Pork Luncheon Meat 397 gr   \n...                                                   ...   \n167497          Kedaung Cangkir / Mug Enamel Loreng 10 cm   \n167498  LAMPU HURUF A-Z DAN ANGKA 0-9 \\xe2\\x9d\\xa4\\xef...   \n167499  LAMPU HURUF A-Z DAN ANGKA 0-9 \\xe2\\x9d\\xa4\\xef...   \n167500      Sprei Lady Rose 180x200 King terlaris Keroppi   \n167501      Sprei Lady Rose 180x200 King terlaris Keroppi   \n\n                                                  title_2  label  \n0                               PAPER BAG VICTORIA SECRET      1  \n1       Abacaga ; Cara Praktis Belajar Membaca Untuk A...      0  \n2       Double Tape VHB 3M ORIGINAL 12mm x 4.5mm Busa ...      1  \n3          Alat Cukur Alis Elektrik Mini Tanpa Rasa Sakit      0  \n4                 Maling Ham Pork Luncheon Meat TTS 397gr      1  \n...                                                   ...    ...  \n167497  (COD) Dompet Panjang Import 6088 Dompet Tali P...      0  \n167498         LAMPU HURUF A-Z DAN ANGKA 0-9 TINGGI 16 CM      1  \n167499  Serba Grosir Murah Sarung Tangan Anti Panas un...      0  \n167500       Sprei king ladyrose size 180x200 kerokeroppi      1  \n167501  Co2.cloth celana Jeans perempuan (co.15) usia ...      0  \n\n[167502 rows x 7 columns]",
      "text/html": "<div>\n<style scoped>\n    .dataframe tbody tr th:only-of-type {\n        vertical-align: middle;\n    }\n\n    .dataframe tbody tr th {\n        vertical-align: top;\n    }\n\n    .dataframe thead th {\n        text-align: right;\n    }\n</style>\n<table border=\"1\" class=\"dataframe\">\n  <thead>\n    <tr style=\"text-align: right;\">\n      <th></th>\n      <th>posting_id_1</th>\n      <th>posting_id_2</th>\n      <th>image_1</th>\n      <th>image_2</th>\n      <th>title_1</th>\n      <th>title_2</th>\n      <th>label</th>\n    </tr>\n  </thead>\n  <tbody>\n    <tr>\n      <th>0</th>\n      <td>train_129225211</td>\n      <td>train_2278313361</td>\n      <td>./shopee-product-matching/train_images/0000a68...</td>\n      <td>./shopee-product-matching/train_images/f83b49a...</td>\n      <td>Paper Bag Victoria Secret</td>\n      <td>PAPER BAG VICTORIA SECRET</td>\n      <td>1</td>\n    </tr>\n    <tr>\n      <th>1</th>\n      <td>train_2278313361</td>\n      <td>train_7437096</td>\n      <td>./shopee-product-matching/train_images/f83b49a...</td>\n      <td>./shopee-product-matching/train_images/c897e0d...</td>\n      <td>PAPER BAG VICTORIA SECRET</td>\n      <td>Abacaga ; Cara Praktis Belajar Membaca Untuk A...</td>\n      <td>0</td>\n    </tr>\n    <tr>\n      <th>2</th>\n      <td>train_3386243561</td>\n      <td>train_3423213080</td>\n      <td>./shopee-product-matching/train_images/0003978...</td>\n      <td>./shopee-product-matching/train_images/8cbe4bf...</td>\n      <td>Double Tape 3M VHB 12 mm x 4,5 m ORIGINAL / DO...</td>\n      <td>Double Tape VHB 3M ORIGINAL 12mm x 4.5mm Busa ...</td>\n      <td>1</td>\n    </tr>\n    <tr>\n      <th>3</th>\n      <td>train_3386243561</td>\n      <td>train_1836586325</td>\n      <td>./shopee-product-matching/train_images/0003978...</td>\n      <td>./shopee-product-matching/train_images/9af7695...</td>\n      <td>Double Tape 3M VHB 12 mm x 4,5 m ORIGINAL / DO...</td>\n      <td>Alat Cukur Alis Elektrik Mini Tanpa Rasa Sakit</td>\n      <td>0</td>\n    </tr>\n    <tr>\n      <th>4</th>\n      <td>train_2288590299</td>\n      <td>train_3803689425</td>\n      <td>./shopee-product-matching/train_images/000a190...</td>\n      <td>./shopee-product-matching/train_images/75dbd1e...</td>\n      <td>Maling TTS Canned Pork Luncheon Meat 397 gr</td>\n      <td>Maling Ham Pork Luncheon Meat TTS 397gr</td>\n      <td>1</td>\n    </tr>\n    <tr>\n      <th>...</th>\n      <td>...</td>\n      <td>...</td>\n      <td>...</td>\n      <td>...</td>\n      <td>...</td>\n      <td>...</td>\n      <td>...</td>\n    </tr>\n    <tr>\n      <th>167497</th>\n      <td>train_866113781</td>\n      <td>train_3058662787</td>\n      <td>./shopee-product-matching/train_images/fd58c6f...</td>\n      <td>./shopee-product-matching/train_images/d1e8a0e...</td>\n      <td>Kedaung Cangkir / Mug Enamel Loreng 10 cm</td>\n      <td>(COD) Dompet Panjang Import 6088 Dompet Tali P...</td>\n      <td>0</td>\n    </tr>\n    <tr>\n      <th>167498</th>\n      <td>train_2244662893</td>\n      <td>train_3281898016</td>\n      <td>./shopee-product-matching/train_images/fd68da1...</td>\n      <td>./shopee-product-matching/train_images/fe2f96d...</td>\n      <td>LAMPU HURUF A-Z DAN ANGKA 0-9 \\xe2\\x9d\\xa4\\xef...</td>\n      <td>LAMPU HURUF A-Z DAN ANGKA 0-9 TINGGI 16 CM</td>\n      <td>1</td>\n    </tr>\n    <tr>\n      <th>167499</th>\n      <td>train_2244662893</td>\n      <td>train_1962509900</td>\n      <td>./shopee-product-matching/train_images/fd68da1...</td>\n      <td>./shopee-product-matching/train_images/1760302...</td>\n      <td>LAMPU HURUF A-Z DAN ANGKA 0-9 \\xe2\\x9d\\xa4\\xef...</td>\n      <td>Serba Grosir Murah Sarung Tangan Anti Panas un...</td>\n      <td>0</td>\n    </tr>\n    <tr>\n      <th>167500</th>\n      <td>train_4221982820</td>\n      <td>train_4063409014</td>\n      <td>./shopee-product-matching/train_images/ff512b2...</td>\n      <td>./shopee-product-matching/train_images/ff7180b...</td>\n      <td>Sprei Lady Rose 180x200 King terlaris Keroppi</td>\n      <td>Sprei king ladyrose size 180x200 kerokeroppi</td>\n      <td>1</td>\n    </tr>\n    <tr>\n      <th>167501</th>\n      <td>train_4221982820</td>\n      <td>train_1968685616</td>\n      <td>./shopee-product-matching/train_images/ff512b2...</td>\n      <td>./shopee-product-matching/train_images/12d6809...</td>\n      <td>Sprei Lady Rose 180x200 King terlaris Keroppi</td>\n      <td>Co2.cloth celana Jeans perempuan (co.15) usia ...</td>\n      <td>0</td>\n    </tr>\n  </tbody>\n</table>\n<p>167502 rows × 7 columns</p>\n</div>"
     },
     "execution_count": 3,
     "metadata": {},
     "output_type": "execute_result"
    }
   ],
   "source": [
    "train_cl_df = dataset_utils.get_contrastive_loss_dataset(train_df)\n",
    "train_cl_df"
   ],
   "metadata": {
    "collapsed": false,
    "pycharm": {
     "name": "#%%\n"
    }
   }
  },
  {
   "cell_type": "code",
   "execution_count": 4,
   "outputs": [
    {
     "data": {
      "text/plain": "            posting_id_1      posting_id_2  \\\n77757   train_2657855879   train_274975325   \n21690   train_1251926547  train_1359948092   \n124057   train_327920855   train_177136644   \n51876   train_3978236021   train_389580299   \n43363   train_1472702975  train_3655323022   \n...                  ...               ...   \n105804  train_3967330559   train_916038872   \n65817    train_911623964  train_3939843351   \n145641  train_2874063158  train_2649914633   \n159993  train_2278189641   train_526948393   \n137572  train_4118542018    train_64341723   \n\n                                                  image_1  \\\n77757   ./shopee-product-matching/train_images/6ba55ac...   \n21690   ./shopee-product-matching/train_images/0233d15...   \n124057  ./shopee-product-matching/train_images/67754ca...   \n51876   ./shopee-product-matching/train_images/07df304...   \n43363   ./shopee-product-matching/train_images/81d8fb2...   \n...                                                   ...   \n105804  ./shopee-product-matching/train_images/8b94005...   \n65817   ./shopee-product-matching/train_images/7ddaf0f...   \n145641  ./shopee-product-matching/train_images/983120d...   \n159993  ./shopee-product-matching/train_images/9b1f173...   \n137572  ./shopee-product-matching/train_images/3a83ca0...   \n\n                                                  image_2  \\\n77757   ./shopee-product-matching/train_images/9ed9f32...   \n21690   ./shopee-product-matching/train_images/3c969c9...   \n124057  ./shopee-product-matching/train_images/e24c61b...   \n51876   ./shopee-product-matching/train_images/be70421...   \n43363   ./shopee-product-matching/train_images/a4f59ba...   \n...                                                   ...   \n105804  ./shopee-product-matching/train_images/046d98c...   \n65817   ./shopee-product-matching/train_images/cc8b63c...   \n145641  ./shopee-product-matching/train_images/7ffd9f6...   \n159993  ./shopee-product-matching/train_images/377fc2c...   \n137572  ./shopee-product-matching/train_images/a2315d6...   \n\n                                                  title_1  \\\n77757                                       CL BL 01 70cm   \n21690   VIVA Cleansing Milk, VIVA Air Mawar, VIVA Face...   \n124057                   {BOX}MASKER GOLD ANTI AGING BPOM   \n51876   7in1 Stick Cup Standing Balon + Tatakan / Tian...   \n43363            Souvenir pisau sarung apel kemas plastik   \n...                                                   ...   \n105804                    (SOLD OUT) MASKYOURNEEDS 25gram   \n65817   \\xe2\\x9d\\x84 TMALL \\xe2\\x9d\\x84 R108 Kaos Kaki...   \n145641  Isi daya USB LED\\xe2\\x9c\\x85Timbangan Badan De...   \n159993  Tas wanita chale dan keth 2 in 1 / Tas Jinjing...   \n137572  (MURAH) KPOP KOREA - Griptok 3D/ Phone Holder ...   \n\n                                                  title_2  label  \n77757   FREE BOX & BATERAI JAM TANGAN PRIA GSHOCK GST-...      1  \n21690   VIVA AIR MAWAR 100ml | AIR MAWAR VIVA PENYEGAR...      1  \n124057               Hanasui Anti Aging Peel Of Mask Gold      1  \n51876                         Kewpie Salad Dressing 200ml      0  \n43363                             Pisau Sarung Motif Apel      1  \n...                                                   ...    ...  \n105804                    PART 1 BELLA SQUARE POLLYCOTTON      0  \n65817   \\xe2\\x9c\\xa7YUKSHOPING\\xe2\\x9c\\xa7 R108 Kaos K...      1  \n145641  sepatu anak laki laki dan perempuan motif tali...      0  \n159993           Boci mantap jiwa ori/geprek/korean spicy      0  \n137572          Batu gerinda potong WD 4 x 1,2 gurinda wd      0  \n\n[167502 rows x 7 columns]",
      "text/html": "<div>\n<style scoped>\n    .dataframe tbody tr th:only-of-type {\n        vertical-align: middle;\n    }\n\n    .dataframe tbody tr th {\n        vertical-align: top;\n    }\n\n    .dataframe thead th {\n        text-align: right;\n    }\n</style>\n<table border=\"1\" class=\"dataframe\">\n  <thead>\n    <tr style=\"text-align: right;\">\n      <th></th>\n      <th>posting_id_1</th>\n      <th>posting_id_2</th>\n      <th>image_1</th>\n      <th>image_2</th>\n      <th>title_1</th>\n      <th>title_2</th>\n      <th>label</th>\n    </tr>\n  </thead>\n  <tbody>\n    <tr>\n      <th>77757</th>\n      <td>train_2657855879</td>\n      <td>train_274975325</td>\n      <td>./shopee-product-matching/train_images/6ba55ac...</td>\n      <td>./shopee-product-matching/train_images/9ed9f32...</td>\n      <td>CL BL 01 70cm</td>\n      <td>FREE BOX &amp; BATERAI JAM TANGAN PRIA GSHOCK GST-...</td>\n      <td>1</td>\n    </tr>\n    <tr>\n      <th>21690</th>\n      <td>train_1251926547</td>\n      <td>train_1359948092</td>\n      <td>./shopee-product-matching/train_images/0233d15...</td>\n      <td>./shopee-product-matching/train_images/3c969c9...</td>\n      <td>VIVA Cleansing Milk, VIVA Air Mawar, VIVA Face...</td>\n      <td>VIVA AIR MAWAR 100ml | AIR MAWAR VIVA PENYEGAR...</td>\n      <td>1</td>\n    </tr>\n    <tr>\n      <th>124057</th>\n      <td>train_327920855</td>\n      <td>train_177136644</td>\n      <td>./shopee-product-matching/train_images/67754ca...</td>\n      <td>./shopee-product-matching/train_images/e24c61b...</td>\n      <td>{BOX}MASKER GOLD ANTI AGING BPOM</td>\n      <td>Hanasui Anti Aging Peel Of Mask Gold</td>\n      <td>1</td>\n    </tr>\n    <tr>\n      <th>51876</th>\n      <td>train_3978236021</td>\n      <td>train_389580299</td>\n      <td>./shopee-product-matching/train_images/07df304...</td>\n      <td>./shopee-product-matching/train_images/be70421...</td>\n      <td>7in1 Stick Cup Standing Balon + Tatakan / Tian...</td>\n      <td>Kewpie Salad Dressing 200ml</td>\n      <td>0</td>\n    </tr>\n    <tr>\n      <th>43363</th>\n      <td>train_1472702975</td>\n      <td>train_3655323022</td>\n      <td>./shopee-product-matching/train_images/81d8fb2...</td>\n      <td>./shopee-product-matching/train_images/a4f59ba...</td>\n      <td>Souvenir pisau sarung apel kemas plastik</td>\n      <td>Pisau Sarung Motif Apel</td>\n      <td>1</td>\n    </tr>\n    <tr>\n      <th>...</th>\n      <td>...</td>\n      <td>...</td>\n      <td>...</td>\n      <td>...</td>\n      <td>...</td>\n      <td>...</td>\n      <td>...</td>\n    </tr>\n    <tr>\n      <th>105804</th>\n      <td>train_3967330559</td>\n      <td>train_916038872</td>\n      <td>./shopee-product-matching/train_images/8b94005...</td>\n      <td>./shopee-product-matching/train_images/046d98c...</td>\n      <td>(SOLD OUT) MASKYOURNEEDS 25gram</td>\n      <td>PART 1 BELLA SQUARE POLLYCOTTON</td>\n      <td>0</td>\n    </tr>\n    <tr>\n      <th>65817</th>\n      <td>train_911623964</td>\n      <td>train_3939843351</td>\n      <td>./shopee-product-matching/train_images/7ddaf0f...</td>\n      <td>./shopee-product-matching/train_images/cc8b63c...</td>\n      <td>\\xe2\\x9d\\x84 TMALL \\xe2\\x9d\\x84 R108 Kaos Kaki...</td>\n      <td>\\xe2\\x9c\\xa7YUKSHOPING\\xe2\\x9c\\xa7 R108 Kaos K...</td>\n      <td>1</td>\n    </tr>\n    <tr>\n      <th>145641</th>\n      <td>train_2874063158</td>\n      <td>train_2649914633</td>\n      <td>./shopee-product-matching/train_images/983120d...</td>\n      <td>./shopee-product-matching/train_images/7ffd9f6...</td>\n      <td>Isi daya USB LED\\xe2\\x9c\\x85Timbangan Badan De...</td>\n      <td>sepatu anak laki laki dan perempuan motif tali...</td>\n      <td>0</td>\n    </tr>\n    <tr>\n      <th>159993</th>\n      <td>train_2278189641</td>\n      <td>train_526948393</td>\n      <td>./shopee-product-matching/train_images/9b1f173...</td>\n      <td>./shopee-product-matching/train_images/377fc2c...</td>\n      <td>Tas wanita chale dan keth 2 in 1 / Tas Jinjing...</td>\n      <td>Boci mantap jiwa ori/geprek/korean spicy</td>\n      <td>0</td>\n    </tr>\n    <tr>\n      <th>137572</th>\n      <td>train_4118542018</td>\n      <td>train_64341723</td>\n      <td>./shopee-product-matching/train_images/3a83ca0...</td>\n      <td>./shopee-product-matching/train_images/a2315d6...</td>\n      <td>(MURAH) KPOP KOREA - Griptok 3D/ Phone Holder ...</td>\n      <td>Batu gerinda potong WD 4 x 1,2 gurinda wd</td>\n      <td>0</td>\n    </tr>\n  </tbody>\n</table>\n<p>167502 rows × 7 columns</p>\n</div>"
     },
     "execution_count": 4,
     "metadata": {},
     "output_type": "execute_result"
    }
   ],
   "source": [
    "train_cl_df = train_cl_df.sample(frac=1)\n",
    "train_cl_df"
   ],
   "metadata": {
    "collapsed": false,
    "pycharm": {
     "name": "#%%\n"
    }
   }
  },
  {
   "cell_type": "code",
   "execution_count": 5,
   "outputs": [
    {
     "data": {
      "text/plain": "       posting_id_1  posting_id_2  image_1  image_2  title_1  title_2\nlabel                                                                \n0             83751         83751    83751    83751    83751    83751\n1             83751         83751    83751    83751    83751    83751",
      "text/html": "<div>\n<style scoped>\n    .dataframe tbody tr th:only-of-type {\n        vertical-align: middle;\n    }\n\n    .dataframe tbody tr th {\n        vertical-align: top;\n    }\n\n    .dataframe thead th {\n        text-align: right;\n    }\n</style>\n<table border=\"1\" class=\"dataframe\">\n  <thead>\n    <tr style=\"text-align: right;\">\n      <th></th>\n      <th>posting_id_1</th>\n      <th>posting_id_2</th>\n      <th>image_1</th>\n      <th>image_2</th>\n      <th>title_1</th>\n      <th>title_2</th>\n    </tr>\n    <tr>\n      <th>label</th>\n      <th></th>\n      <th></th>\n      <th></th>\n      <th></th>\n      <th></th>\n      <th></th>\n    </tr>\n  </thead>\n  <tbody>\n    <tr>\n      <th>0</th>\n      <td>83751</td>\n      <td>83751</td>\n      <td>83751</td>\n      <td>83751</td>\n      <td>83751</td>\n      <td>83751</td>\n    </tr>\n    <tr>\n      <th>1</th>\n      <td>83751</td>\n      <td>83751</td>\n      <td>83751</td>\n      <td>83751</td>\n      <td>83751</td>\n      <td>83751</td>\n    </tr>\n  </tbody>\n</table>\n</div>"
     },
     "execution_count": 5,
     "metadata": {},
     "output_type": "execute_result"
    }
   ],
   "source": [
    "train_cl_df.groupby('label').count()"
   ],
   "metadata": {
    "collapsed": false,
    "pycharm": {
     "name": "#%%\n"
    }
   }
  },
  {
   "cell_type": "code",
   "execution_count": 6,
   "outputs": [],
   "source": [
    "# train_cl_df.to_csv('./shopee-product-matching/contrastive_loss_data.csv', index=False)"
   ],
   "metadata": {
    "collapsed": false,
    "pycharm": {
     "name": "#%%\n"
    }
   }
  },
  {
   "cell_type": "code",
   "execution_count": 7,
   "outputs": [],
   "source": [
    "\n",
    "images_dataset = ImageContrastiveLossShopeeDataset(\n",
    "    train_cl_df['image_1'].values,\n",
    "    train_cl_df['image_2'].values,\n",
    "    train_cl_df['label'].values,\n",
    "    transforms.Compose([\n",
    "        transforms.Resize((512, 512)),\n",
    "        transforms.ToTensor(),\n",
    "        transforms.Normalize([0.485, 0.456, 0.406], [0.229, 0.224, 0.225])\n",
    "    ]))\n",
    "\n",
    "train_percent = 0.8\n",
    "\n",
    "total_len = len(images_dataset)\n",
    "train_len = int(train_percent * total_len)\n",
    "val_len = total_len - train_len\n",
    "train_dataset, val_dataset = torch.utils.data.random_split(images_dataset, [train_len, val_len])\n",
    "\n",
    "train_loader = torch.utils.data.DataLoader(\n",
    "    train_dataset,\n",
    "    batch_size=64,\n",
    "    shuffle=True,\n",
    "    num_workers=4\n",
    ")\n",
    "\n",
    "val_loader = torch.utils.data.DataLoader(\n",
    "    val_dataset,\n",
    "    batch_size=64,\n",
    "    shuffle=True,\n",
    "    num_workers=4\n",
    ")"
   ],
   "metadata": {
    "collapsed": false,
    "pycharm": {
     "name": "#%%\n"
    }
   }
  },
  {
   "cell_type": "code",
   "execution_count": 8,
   "outputs": [],
   "source": [
    "def train(model, device, train_loader, optimizer, criterion, epoch):\n",
    "    model.train()\n",
    "    running_loss = 0\n",
    "    i = 1\n",
    "    tk0 = tqdm(train_loader, total=len(train_loader))\n",
    "    for input_1, input_2, target in tk0:\n",
    "        input_1, input_2, target = input_1.to(device), input_2.to(device), target.to(device)\n",
    "        optimizer.zero_grad()\n",
    "        output_1, output_2 = model(input_1, input_2)\n",
    "        loss = criterion(output_1, output_2, target)\n",
    "        loss.backward()\n",
    "        optimizer.step()\n",
    "        running_loss += loss\n",
    "        running_loss /= i\n",
    "        i += 1\n",
    "        tk0.set_postfix(Train_Loss=running_loss,Epoch=epoch,LR=optimizer.param_groups[0]['lr'])\n",
    "\n",
    "        # if batch_idx % 100 == 0:\n",
    "        #     print('Train Epoch: {} [{}/{} ({:.0f}%)]\\tLoss: {:.6f}'.format(\n",
    "        #         epoch, batch_idx * len(input_1), len(train_loader.dataset),\n",
    "        #                100. * batch_idx / len(train_loader), loss.item()))\n",
    "\n",
    "def test(model, device, test_loader, criterion):\n",
    "    model.eval()\n",
    "    test_loss = 0\n",
    "    correct = 0\n",
    "    tk0 = tqdm(test_loader, total=len(test_loader))\n",
    "    with torch.no_grad():\n",
    "        for input_1, input_2, target in tk0:\n",
    "            input_1, input_2, target = input_1.to(device), input_2.to(device), target.to(device)\n",
    "            output_1, output_2 = model(input_1, input_2)\n",
    "            test_loss += criterion(output_1, output_2, target, reduction='sum').item()  # sum up batch loss\n",
    "            # pred = output.argmax(dim=1, keepdim=True)  # get the index of the max log-probability\n",
    "            # correct += pred.eq(target.view_as(pred)).sum().item()\n",
    "\n",
    "    test_loss /= len(test_loader.dataset)\n",
    "    print('\\nTest set: Average loss: {:.4f}, Accuracy: {}/{} ({:.0f}%)\\n'.format(\n",
    "        test_loss, correct, len(test_loader.dataset),\n",
    "        100. * correct / len(test_loader.dataset)))\n",
    "\n"
   ],
   "metadata": {
    "collapsed": false,
    "pycharm": {
     "name": "#%%\n"
    }
   }
  },
  {
   "cell_type": "code",
   "execution_count": 9,
   "outputs": [],
   "source": [
    "device = torch.device(\"cpu\")\n",
    "\n",
    "resnet18_emb_model = ResNet18EmbeddingsShopeeNet().to(device)\n",
    "siamese_net = SiameseNet(resnet18_emb_model).to(device)\n",
    "\n",
    "criterion = ContrastiveLoss()\n",
    "optimizer = optim.Adam(siamese_net.parameters(), lr=0.01)\n",
    "scheduler = optim.lr_scheduler.StepLR(optimizer, step_size=1, gamma=0.99)\n",
    "num_epochs = 5"
   ],
   "metadata": {
    "collapsed": false,
    "pycharm": {
     "name": "#%%\n"
    }
   }
  },
  {
   "cell_type": "code",
   "execution_count": 10,
   "outputs": [
    {
     "name": "stderr",
     "output_type": "stream",
     "text": [
      "  0%|          | 0/2094 [00:00<?, ?it/s][W NNPACK.cpp:51] Could not initialize NNPACK! Reason: Unsupported hardware.\n",
      "  1%|          | 11/2094 [1:00:38<191:22:38, 330.75s/it, Epoch=1, LR=0.01, Train_Loss=tensor(0.0195, grad_fn=<DivBackward0>)]\n"
     ]
    },
    {
     "ename": "KeyboardInterrupt",
     "evalue": "",
     "output_type": "error",
     "traceback": [
      "\u001B[0;31m---------------------------------------------------------------------------\u001B[0m",
      "\u001B[0;31mKeyboardInterrupt\u001B[0m                         Traceback (most recent call last)",
      "Cell \u001B[0;32mIn[10], line 2\u001B[0m\n\u001B[1;32m      1\u001B[0m \u001B[38;5;28;01mfor\u001B[39;00m epoch \u001B[38;5;129;01min\u001B[39;00m \u001B[38;5;28mrange\u001B[39m(\u001B[38;5;241m1\u001B[39m, num_epochs):\n\u001B[0;32m----> 2\u001B[0m     \u001B[43mtrain\u001B[49m\u001B[43m(\u001B[49m\u001B[43msiamese_net\u001B[49m\u001B[43m,\u001B[49m\u001B[43m \u001B[49m\u001B[43mdevice\u001B[49m\u001B[43m,\u001B[49m\u001B[43m \u001B[49m\u001B[43mtrain_loader\u001B[49m\u001B[43m,\u001B[49m\u001B[43m \u001B[49m\u001B[43moptimizer\u001B[49m\u001B[43m,\u001B[49m\u001B[43m \u001B[49m\u001B[43mcriterion\u001B[49m\u001B[43m,\u001B[49m\u001B[43mepoch\u001B[49m\u001B[43m)\u001B[49m\n\u001B[1;32m      3\u001B[0m     test(siamese_net, device, val_loader, criterion)\n\u001B[1;32m      4\u001B[0m     scheduler\u001B[38;5;241m.\u001B[39mstep()\n",
      "Cell \u001B[0;32mIn[8], line 11\u001B[0m, in \u001B[0;36mtrain\u001B[0;34m(model, device, train_loader, optimizer, criterion, epoch)\u001B[0m\n\u001B[1;32m      9\u001B[0m output_1, output_2 \u001B[38;5;241m=\u001B[39m model(input_1, input_2)\n\u001B[1;32m     10\u001B[0m loss \u001B[38;5;241m=\u001B[39m criterion(output_1, output_2, target)\n\u001B[0;32m---> 11\u001B[0m \u001B[43mloss\u001B[49m\u001B[38;5;241;43m.\u001B[39;49m\u001B[43mbackward\u001B[49m\u001B[43m(\u001B[49m\u001B[43m)\u001B[49m\n\u001B[1;32m     12\u001B[0m optimizer\u001B[38;5;241m.\u001B[39mstep()\n\u001B[1;32m     13\u001B[0m running_loss \u001B[38;5;241m+\u001B[39m\u001B[38;5;241m=\u001B[39m loss\n",
      "File \u001B[0;32m~/opt/anaconda3/envs/dl-ecommerce-duplicates/lib/python3.8/site-packages/torch/_tensor.py:396\u001B[0m, in \u001B[0;36mTensor.backward\u001B[0;34m(self, gradient, retain_graph, create_graph, inputs)\u001B[0m\n\u001B[1;32m    387\u001B[0m \u001B[38;5;28;01mif\u001B[39;00m has_torch_function_unary(\u001B[38;5;28mself\u001B[39m):\n\u001B[1;32m    388\u001B[0m     \u001B[38;5;28;01mreturn\u001B[39;00m handle_torch_function(\n\u001B[1;32m    389\u001B[0m         Tensor\u001B[38;5;241m.\u001B[39mbackward,\n\u001B[1;32m    390\u001B[0m         (\u001B[38;5;28mself\u001B[39m,),\n\u001B[0;32m   (...)\u001B[0m\n\u001B[1;32m    394\u001B[0m         create_graph\u001B[38;5;241m=\u001B[39mcreate_graph,\n\u001B[1;32m    395\u001B[0m         inputs\u001B[38;5;241m=\u001B[39minputs)\n\u001B[0;32m--> 396\u001B[0m \u001B[43mtorch\u001B[49m\u001B[38;5;241;43m.\u001B[39;49m\u001B[43mautograd\u001B[49m\u001B[38;5;241;43m.\u001B[39;49m\u001B[43mbackward\u001B[49m\u001B[43m(\u001B[49m\u001B[38;5;28;43mself\u001B[39;49m\u001B[43m,\u001B[49m\u001B[43m \u001B[49m\u001B[43mgradient\u001B[49m\u001B[43m,\u001B[49m\u001B[43m \u001B[49m\u001B[43mretain_graph\u001B[49m\u001B[43m,\u001B[49m\u001B[43m \u001B[49m\u001B[43mcreate_graph\u001B[49m\u001B[43m,\u001B[49m\u001B[43m \u001B[49m\u001B[43minputs\u001B[49m\u001B[38;5;241;43m=\u001B[39;49m\u001B[43minputs\u001B[49m\u001B[43m)\u001B[49m\n",
      "File \u001B[0;32m~/opt/anaconda3/envs/dl-ecommerce-duplicates/lib/python3.8/site-packages/torch/autograd/__init__.py:173\u001B[0m, in \u001B[0;36mbackward\u001B[0;34m(tensors, grad_tensors, retain_graph, create_graph, grad_variables, inputs)\u001B[0m\n\u001B[1;32m    168\u001B[0m     retain_graph \u001B[38;5;241m=\u001B[39m create_graph\n\u001B[1;32m    170\u001B[0m \u001B[38;5;66;03m# The reason we repeat same the comment below is that\u001B[39;00m\n\u001B[1;32m    171\u001B[0m \u001B[38;5;66;03m# some Python versions print out the first line of a multi-line function\u001B[39;00m\n\u001B[1;32m    172\u001B[0m \u001B[38;5;66;03m# calls in the traceback and some print out the last line\u001B[39;00m\n\u001B[0;32m--> 173\u001B[0m \u001B[43mVariable\u001B[49m\u001B[38;5;241;43m.\u001B[39;49m\u001B[43m_execution_engine\u001B[49m\u001B[38;5;241;43m.\u001B[39;49m\u001B[43mrun_backward\u001B[49m\u001B[43m(\u001B[49m\u001B[43m  \u001B[49m\u001B[38;5;66;43;03m# Calls into the C++ engine to run the backward pass\u001B[39;49;00m\n\u001B[1;32m    174\u001B[0m \u001B[43m    \u001B[49m\u001B[43mtensors\u001B[49m\u001B[43m,\u001B[49m\u001B[43m \u001B[49m\u001B[43mgrad_tensors_\u001B[49m\u001B[43m,\u001B[49m\u001B[43m \u001B[49m\u001B[43mretain_graph\u001B[49m\u001B[43m,\u001B[49m\u001B[43m \u001B[49m\u001B[43mcreate_graph\u001B[49m\u001B[43m,\u001B[49m\u001B[43m \u001B[49m\u001B[43minputs\u001B[49m\u001B[43m,\u001B[49m\n\u001B[1;32m    175\u001B[0m \u001B[43m    \u001B[49m\u001B[43mallow_unreachable\u001B[49m\u001B[38;5;241;43m=\u001B[39;49m\u001B[38;5;28;43;01mTrue\u001B[39;49;00m\u001B[43m,\u001B[49m\u001B[43m \u001B[49m\u001B[43maccumulate_grad\u001B[49m\u001B[38;5;241;43m=\u001B[39;49m\u001B[38;5;28;43;01mTrue\u001B[39;49;00m\u001B[43m)\u001B[49m\n",
      "\u001B[0;31mKeyboardInterrupt\u001B[0m: "
     ]
    }
   ],
   "source": [
    "for epoch in range(1, num_epochs):\n",
    "    train(siamese_net, device, train_loader, optimizer, criterion,epoch)\n",
    "    test(siamese_net, device, val_loader, criterion)\n",
    "    scheduler.step()"
   ],
   "metadata": {
    "collapsed": false,
    "pycharm": {
     "name": "#%%\n"
    }
   }
  },
  {
   "cell_type": "code",
   "execution_count": null,
   "outputs": [],
   "source": [],
   "metadata": {
    "collapsed": false,
    "pycharm": {
     "name": "#%%\n"
    }
   }
  },
  {
   "cell_type": "code",
   "execution_count": null,
   "outputs": [],
   "source": [],
   "metadata": {
    "collapsed": false,
    "pycharm": {
     "name": "#%%\n"
    }
   }
  }
 ],
 "metadata": {
  "kernelspec": {
   "display_name": "Python 3",
   "language": "python",
   "name": "python3"
  },
  "language_info": {
   "codemirror_mode": {
    "name": "ipython",
    "version": 2
   },
   "file_extension": ".py",
   "mimetype": "text/x-python",
   "name": "python",
   "nbconvert_exporter": "python",
   "pygments_lexer": "ipython2",
   "version": "2.7.6"
  }
 },
 "nbformat": 4,
 "nbformat_minor": 0
}